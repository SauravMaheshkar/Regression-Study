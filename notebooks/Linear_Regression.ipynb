{
  "nbformat": 4,
  "nbformat_minor": 0,
  "metadata": {
    "colab": {
      "name": "[W&B 🔥] Linear Regression",
      "provenance": [],
      "authorship_tag": "ABX9TyPnhUEENUQaFaa0NiagOu6q",
      "include_colab_link": true
    },
    "kernelspec": {
      "name": "python3",
      "display_name": "Python 3"
    },
    "language_info": {
      "name": "python"
    }
  },
  "cells": [
    {
      "cell_type": "markdown",
      "metadata": {
        "id": "view-in-github",
        "colab_type": "text"
      },
      "source": [
        "<a href=\"https://colab.research.google.com/github/SauravMaheshkar/Regression-Study/blob/main/notebooks/Linear_Regression.ipynb\" target=\"_parent\"><img src=\"https://colab.research.google.com/assets/colab-badge.svg\" alt=\"Open In Colab\"/></a>"
      ]
    },
    {
      "cell_type": "markdown",
      "metadata": {
        "id": "fFWFfz9R53QS"
      },
      "source": [
        "## Author: [@SauravMaheshkar](https://twitter.com/MaheshkarSaurav)"
      ]
    },
    {
      "cell_type": "markdown",
      "metadata": {
        "id": "huU_L3Sz6AIk"
      },
      "source": [
        "# Packages 📦 and Basic Setup\n",
        "---"
      ]
    },
    {
      "cell_type": "markdown",
      "metadata": {
        "id": "LjMzRPmA6DaR"
      },
      "source": [
        "## Install Packages"
      ]
    },
    {
      "cell_type": "code",
      "metadata": {
        "id": "LaHlIB8QPMS_"
      },
      "source": [
        "%%capture\n",
        "!pip install -q --upgrade wandb\n",
        "\n",
        "import os\n",
        "import pandas as pd\n",
        "\n",
        "# Ignore useless warnings\n",
        "import warnings\n",
        "warnings.filterwarnings(action=\"ignore\")\n",
        "\n",
        "# Paste your api key here\n",
        "os.environ[\"WANDB_API_KEY\"] = '...'"
      ],
      "execution_count": 1,
      "outputs": []
    },
    {
      "cell_type": "markdown",
      "metadata": {
        "id": "Wqpwb4-V6Jr7"
      },
      "source": [
        "## Project Configuration using **`wandb`**"
      ]
    },
    {
      "cell_type": "code",
      "metadata": {
        "colab": {
          "base_uri": "https://localhost:8080/",
          "height": 51
        },
        "id": "-IO1OSlKLyJf",
        "outputId": "3f91db67-b695-424f-9327-0b418eb8e4f4"
      },
      "source": [
        "import wandb\n",
        "\n",
        "run = wandb.init(project='linear-regression-sklearn', entity='sauravmaheshkar', job_type = \"dataset\")\n",
        "\n",
        "train_dataset = pd.read_csv(\"https://raw.githubusercontent.com/SauravMaheshkar/Regression-Study/main/data/raw/train.csv\")\n",
        "test_dataset = pd.read_csv(\"https://raw.githubusercontent.com/SauravMaheshkar/Regression-Study/main/data/raw/test.csv\")\n",
        "\n",
        "run.log({\"Train Dataset\" : wandb.Table(dataframe=train_dataset)})\n",
        "run.log({\"Test Dataset\" : wandb.Table(dataframe=test_dataset)})"
      ],
      "execution_count": 2,
      "outputs": [
        {
          "output_type": "stream",
          "name": "stderr",
          "text": [
            "\u001b[34m\u001b[1mwandb\u001b[0m: Currently logged in as: \u001b[33msauravmaheshkar\u001b[0m (use `wandb login --relogin` to force relogin)\n"
          ]
        },
        {
          "output_type": "display_data",
          "data": {
            "text/html": [
              "\n",
              "                    Syncing run <strong><a href=\"https://wandb.ai/sauravmaheshkar/linear-regression-sklearn/runs/3r7rgrch\" target=\"_blank\">silvery-voice-8</a></strong> to <a href=\"https://wandb.ai/sauravmaheshkar/linear-regression-sklearn\" target=\"_blank\">Weights & Biases</a> (<a href=\"https://docs.wandb.com/integrations/jupyter.html\" target=\"_blank\">docs</a>).<br/>\n",
              "\n",
              "                "
            ],
            "text/plain": [
              "<IPython.core.display.HTML object>"
            ]
          },
          "metadata": {}
        }
      ]
    },
    {
      "cell_type": "markdown",
      "metadata": {
        "id": "SjSweDur6UBu"
      },
      "source": [
        "# 🧼 Data Pre-Processing\n",
        "---"
      ]
    },
    {
      "cell_type": "code",
      "metadata": {
        "id": "la-dYHfQp-X6"
      },
      "source": [
        "target = train_dataset.SalePrice\n",
        "\n",
        "cols_with_missing = [col for col in train_dataset.columns \n",
        "                                 if train_dataset[col].isnull().any()]                                  \n",
        "candidate_train_predictors = train_dataset.drop(['Id', 'SalePrice'] + cols_with_missing, axis=1)\n",
        "\n",
        "low_cardinality_cols = [cname for cname in candidate_train_predictors.columns if \n",
        "                                candidate_train_predictors[cname].nunique() < 10 and\n",
        "                                candidate_train_predictors[cname].dtype == \"object\"]\n",
        "numeric_cols = [cname for cname in candidate_train_predictors.columns if \n",
        "                                candidate_train_predictors[cname].dtype in ['int64', 'float64']]\n",
        "my_cols = low_cardinality_cols + numeric_cols\n",
        "train_predictors = candidate_train_predictors[my_cols]\n",
        "\n",
        "one_hot_encoded_training_predictors = pd.get_dummies(train_predictors)\n",
        "\n",
        "run.log({\"One Hot Encoded Dataset\" : wandb.Table(dataframe=one_hot_encoded_training_predictors)})"
      ],
      "execution_count": 3,
      "outputs": []
    },
    {
      "cell_type": "markdown",
      "metadata": {
        "id": "9IGf7vPd6Zzr"
      },
      "source": [
        "# 💪🏻 Model + Training \n",
        "---"
      ]
    },
    {
      "cell_type": "code",
      "metadata": {
        "id": "VlbHcdBy0vjH"
      },
      "source": [
        "from sklearn.linear_model import LinearRegression, Ridge\n",
        "\n",
        "reg = LinearRegression().fit(one_hot_encoded_training_predictors, target)"
      ],
      "execution_count": 5,
      "outputs": []
    },
    {
      "cell_type": "code",
      "metadata": {
        "id": "2dKq3X_s1YUh"
      },
      "source": [
        "wandb.sklearn.plot_learning_curve(reg, one_hot_encoded_training_predictors, target)\n",
        "run.finish()"
      ],
      "execution_count": 6,
      "outputs": []
    }
  ]
}